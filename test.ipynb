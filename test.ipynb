{
 "cells": [
  {
   "cell_type": "code",
   "execution_count": 15,
   "metadata": {},
   "outputs": [],
   "source": [
    "import numpy as np\n",
    "import itertools"
   ]
  },
  {
   "cell_type": "code",
   "execution_count": 16,
   "metadata": {},
   "outputs": [],
   "source": [
    "P_C = np.array([0.8,0.2])\n",
    "P_L = np.array([0.4,0.6])\n",
    "\n",
    "P_RN_C = np.array([\n",
    "    [0.95, 0.35],\n",
    "    [0.05, 0.65]\n",
    "])"
   ]
  },
  {
   "cell_type": "code",
   "execution_count": 17,
   "metadata": {},
   "outputs": [],
   "source": [
    "P_TM_RN_S = np.zeros((2,2,2))\n",
    "P_TM_RN_S[0,:,:] = np.array([\n",
    "    [0.99, 0.9],\n",
    "    [0.75, 0.45]\n",
    "])\n",
    "P_TM_RN_S[1,:,:] = np.array([\n",
    "    [0.01, 0.1],\n",
    "    [0.25, 0.55]\n",
    "])"
   ]
  },
  {
   "cell_type": "code",
   "execution_count": 18,
   "metadata": {},
   "outputs": [],
   "source": [
    "P_S_C_L = np.zeros((2,2,2))\n",
    "P_S_C_L[0,:,:] = np.array([\n",
    "    [0.99, 0.7],\n",
    "    [0.5, 0.4]\n",
    "])\n",
    "P_S_C_L[1,:,:] = np.array([\n",
    "    [0.01, 0.3],\n",
    "    [0.5, 0.6]\n",
    "])"
   ]
  },
  {
   "cell_type": "code",
   "execution_count": 19,
   "metadata": {},
   "outputs": [
    {
     "name": "stdout",
     "output_type": "stream",
     "text": [
      "0 0 0   0.7874\n",
      "0 0 1   0.5599999999999999\n",
      "0 1 0   0.1046\n",
      "0 1 1   0.08000000000000002\n",
      "1 0 0   0.0426\n",
      "1 0 1   0.26999999999999996\n",
      "1 1 0   0.0654\n",
      "1 1 1   0.09\n"
     ]
    }
   ],
   "source": [
    "m_C = np.zeros((2,2,2))\n",
    "for k in list(itertools.product([0, 1], repeat=3)):\n",
    "    s, rn, l = k\n",
    "    for c in range(2):\n",
    "        m_C[s,rn,l] += P_S_C_L[s,c,l] * P_C[c] * P_RN_C[rn, c]\n",
    "    print(s,rn,l, \" \", m_C[s,rn,l])"
   ]
  },
  {
   "cell_type": "code",
   "execution_count": 20,
   "metadata": {},
   "outputs": [
    {
     "name": "stdout",
     "output_type": "stream",
     "text": [
      "0 0 0   0.817866\n",
      "0 0 1   0.7973999999999999\n",
      "0 1 0   0.10787999999999999\n",
      "0 1 1   0.1005\n",
      "1 0 0   0.012134\n",
      "1 0 1   0.0326\n",
      "1 1 0   0.06212\n",
      "1 1 1   0.0695\n"
     ]
    }
   ],
   "source": [
    "m_S = np.zeros((2,2,2))\n",
    "for k in list(itertools.product([0, 1], repeat=3)):\n",
    "    tm, rn, l = k\n",
    "    for s in range(2):\n",
    "        m_S[tm,rn,l] += P_TM_RN_S[tm,rn,s] * m_C[s,rn,l]\n",
    "    print(tm,rn,l, \" \", m_S[tm,rn,l])"
   ]
  },
  {
   "cell_type": "code",
   "execution_count": 22,
   "metadata": {},
   "outputs": [
    {
     "name": "stdout",
     "output_type": "stream",
     "text": [
      "0 0   0.925746\n",
      "0 1   0.8978999999999999\n",
      "1 0   0.074254\n",
      "1 1   0.1021\n"
     ]
    }
   ],
   "source": [
    "P_TM_L = np.zeros((2,2))\n",
    "for k in list(itertools.product([0, 1], repeat=2)):\n",
    "    tm, l = k\n",
    "    for rn in range(2):\n",
    "        P_TM_L[tm,l] += m_S[tm,rn,l]\n",
    "    print(tm,l, \" \", P_TM_L[tm,l])"
   ]
  },
  {
   "cell_type": "code",
   "execution_count": null,
   "metadata": {},
   "outputs": [],
   "source": []
  }
 ],
 "metadata": {
  "kernelspec": {
   "display_name": "proj1",
   "language": "python",
   "name": "python3"
  },
  "language_info": {
   "codemirror_mode": {
    "name": "ipython",
    "version": 3
   },
   "file_extension": ".py",
   "mimetype": "text/x-python",
   "name": "python",
   "nbconvert_exporter": "python",
   "pygments_lexer": "ipython3",
   "version": "3.10.11"
  },
  "orig_nbformat": 4
 },
 "nbformat": 4,
 "nbformat_minor": 2
}
